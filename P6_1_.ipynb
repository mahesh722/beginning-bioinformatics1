{
  "nbformat": 4,
  "nbformat_minor": 0,
  "metadata": {
    "colab": {
      "provenance": [],
      "include_colab_link": true
    },
    "kernelspec": {
      "name": "python3",
      "display_name": "Python 3"
    },
    "language_info": {
      "name": "python"
    }
  },
  "cells": [
    {
      "cell_type": "markdown",
      "metadata": {
        "id": "view-in-github",
        "colab_type": "text"
      },
      "source": [
        "<a href=\"https://colab.research.google.com/github/mahesh722/beginning-bioinformatics1/blob/main/P6_1_.ipynb\" target=\"_parent\"><img src=\"https://colab.research.google.com/assets/colab-badge.svg\" alt=\"Open In Colab\"/></a>"
      ]
    },
    {
      "cell_type": "code",
      "execution_count": null,
      "metadata": {
        "colab": {
          "base_uri": "https://localhost:8080/"
        },
        "id": "qyWq9pTGKn9y",
        "outputId": "77c1c172-9f4c-44ae-be94-5f0c0630b152"
      },
      "outputs": [
        {
          "output_type": "stream",
          "name": "stdout",
          "text": [
            "Enter your name: Mahesh\n",
            "hello,  Mahesh\n"
          ]
        }
      ],
      "source": [
        "name = input(\"Enter your name: \")\n",
        "print(\"hello,  \" + name)"
      ]
    },
    {
      "cell_type": "markdown",
      "source": [
        "p6.2"
      ],
      "metadata": {
        "id": "UBvTfF8fMwOS"
      }
    },
    {
      "cell_type": "code",
      "source": [
        "a= float(input(\"Enter side a:  \"))\n",
        "b= float(input(\"Enter side b:  \"))\n",
        "c_sq = a**2 + b**2\n",
        "print(c_sq)"
      ],
      "metadata": {
        "id": "aegyhGMALS5w",
        "colab": {
          "base_uri": "https://localhost:8080/"
        },
        "outputId": "0bf223d4-c8c5-492f-dd2c-63dc65cd8c00"
      },
      "execution_count": null,
      "outputs": [
        {
          "output_type": "stream",
          "name": "stdout",
          "text": [
            "Enter side a:  6\n",
            "Enter side b:  8\n",
            "100.0\n"
          ]
        }
      ]
    },
    {
      "cell_type": "markdown",
      "source": [
        "p7.1"
      ],
      "metadata": {
        "id": "94XQ8wLsM55W"
      }
    },
    {
      "cell_type": "code",
      "source": [
        "my_list = [\"Hello\", \"World\", \"Charles Darwin\"]\n",
        "print(my_list[1])"
      ],
      "metadata": {
        "colab": {
          "base_uri": "https://localhost:8080/"
        },
        "id": "qnoKbGLbNAIr",
        "outputId": "60e88a12-35e6-499d-d1c4-5725c2ebe704"
      },
      "execution_count": null,
      "outputs": [
        {
          "output_type": "stream",
          "name": "stdout",
          "text": [
            "World\n"
          ]
        }
      ]
    },
    {
      "cell_type": "markdown",
      "source": [
        "p7.2\n"
      ],
      "metadata": {
        "id": "Cvr93FDuON_P"
      }
    },
    {
      "cell_type": "code",
      "source": [
        "my_list[2] = \"Alfred R. Wallace\"\n",
        "print(my_list)"
      ],
      "metadata": {
        "colab": {
          "base_uri": "https://localhost:8080/"
        },
        "id": "k1zgSMaxOQ9s",
        "outputId": "06ae5ff5-3b81-4ab3-8636-8edf89a1981e"
      },
      "execution_count": null,
      "outputs": [
        {
          "output_type": "stream",
          "name": "stdout",
          "text": [
            "['Hello', 'World', 'Alfred R. Wallace']\n"
          ]
        }
      ]
    },
    {
      "cell_type": "markdown",
      "source": [
        "p7.3"
      ],
      "metadata": {
        "id": "20Nd68O7O3FH"
      }
    },
    {
      "cell_type": "code",
      "source": [
        "my_list.append(\"Charles Darwin\")\n",
        "print(my_list)"
      ],
      "metadata": {
        "colab": {
          "base_uri": "https://localhost:8080/"
        },
        "id": "nJDxzGD8O5kq",
        "outputId": "d0266615-65f8-4b38-94b1-8e7f8b252f25"
      },
      "execution_count": null,
      "outputs": [
        {
          "output_type": "stream",
          "name": "stdout",
          "text": [
            "['Hello', 'World', 'Alfred R. Wallace', 'Charles Darwin']\n"
          ]
        }
      ]
    },
    {
      "cell_type": "markdown",
      "source": [
        "p7.4"
      ],
      "metadata": {
        "id": "ic8JkHZDPOc4"
      }
    },
    {
      "cell_type": "code",
      "source": [
        "my_list.insert(1, \"Inserted item\")\n",
        "print(my_list)"
      ],
      "metadata": {
        "colab": {
          "base_uri": "https://localhost:8080/"
        },
        "id": "85AAlFudPP4p",
        "outputId": "0a7c43f3-4da6-4650-bc5e-c55922aeb306"
      },
      "execution_count": null,
      "outputs": [
        {
          "output_type": "stream",
          "name": "stdout",
          "text": [
            "['Hello', 'Inserted item', 'World', 'Alfred R. Wallace', 'Charles Darwin']\n"
          ]
        }
      ]
    },
    {
      "cell_type": "markdown",
      "source": [
        "p8"
      ],
      "metadata": {
        "id": "EEuqou2hPh4o"
      }
    },
    {
      "cell_type": "code",
      "source": [
        "my_list = [\"Hello\",\"Inserted item\",\"World\",\"Alfred R. Wallace\",\"Charles Darwin\"]\n",
        "print(my_list[2:4])"
      ],
      "metadata": {
        "colab": {
          "base_uri": "https://localhost:8080/"
        },
        "id": "JVEVDyNHPiTR",
        "outputId": "b3b745ff-1926-436c-c8cf-dbedf725ce68"
      },
      "execution_count": null,
      "outputs": [
        {
          "output_type": "stream",
          "name": "stdout",
          "text": [
            "['World', 'Alfred R. Wallace']\n"
          ]
        }
      ]
    },
    {
      "cell_type": "markdown",
      "source": [
        "p8.1"
      ],
      "metadata": {
        "id": "ekEmmyYXPj38"
      }
    },
    {
      "cell_type": "code",
      "source": [
        "my_string = \"HelloWorldCharlesDarwinAlfred R. Wallace\"\n",
        "print(my_string[0:5])"
      ],
      "metadata": {
        "colab": {
          "base_uri": "https://localhost:8080/"
        },
        "id": "IQSQP30APkNQ",
        "outputId": "d9b62e6d-bd82-411e-8863-93c1c252f473"
      },
      "execution_count": null,
      "outputs": [
        {
          "output_type": "stream",
          "name": "stdout",
          "text": [
            "Hello\n"
          ]
        }
      ]
    },
    {
      "cell_type": "markdown",
      "source": [
        "p8.2"
      ],
      "metadata": {
        "id": "vakZGULoQtAD"
      }
    },
    {
      "cell_type": "code",
      "source": [
        "my_string = \"HelloWorldCharlesDarwinAlfred R. Wallace\"\n",
        "print (my_string[33:40] + \" \" + my_string[5:10])"
      ],
      "metadata": {
        "colab": {
          "base_uri": "https://localhost:8080/"
        },
        "id": "x66kdhkZQteD",
        "outputId": "dedd4c59-9c5e-42b3-bcdf-ed31bd6b92ac"
      },
      "execution_count": null,
      "outputs": [
        {
          "output_type": "stream",
          "name": "stdout",
          "text": [
            "Wallace World\n"
          ]
        }
      ]
    },
    {
      "cell_type": "markdown",
      "source": [
        "p9"
      ],
      "metadata": {
        "id": "9hyx5uGFVIHC"
      }
    },
    {
      "cell_type": "code",
      "source": [
        "a = float(input(\"a: \"))\n",
        "b = float(input(\"b: \"))\n",
        "if a != b:\n",
        "    print(a - b)\n",
        "else:\n",
        "    print(a + b)"
      ],
      "metadata": {
        "colab": {
          "base_uri": "https://localhost:8080/"
        },
        "id": "6JE5axypVI4k",
        "outputId": "978312db-d395-4ba0-ae68-f1d49d04d69c"
      },
      "execution_count": null,
      "outputs": [
        {
          "output_type": "stream",
          "name": "stdout",
          "text": [
            "a: 9\n",
            "b: 5\n",
            "4.0\n"
          ]
        }
      ]
    },
    {
      "cell_type": "markdown",
      "source": [
        "p10"
      ],
      "metadata": {
        "id": "koHU791bV2c1"
      }
    },
    {
      "cell_type": "code",
      "source": [
        "a = 1\n",
        "while a <= 3:\n",
        "    print(\"Counting!\")\n",
        "    a += 1"
      ],
      "metadata": {
        "colab": {
          "base_uri": "https://localhost:8080/"
        },
        "id": "86Vf6GFGV3Zg",
        "outputId": "b41ef0a3-9d04-4239-cf6c-feefaf9d20bd"
      },
      "execution_count": null,
      "outputs": [
        {
          "output_type": "stream",
          "name": "stdout",
          "text": [
            "Counting!\n",
            "Counting!\n",
            "Counting!\n"
          ]
        }
      ]
    },
    {
      "cell_type": "markdown",
      "source": [
        "p11"
      ],
      "metadata": {
        "id": "h3rER99QWNDu"
      }
    },
    {
      "cell_type": "code",
      "source": [
        "names = [\"Alice\", \"Bob\", \"Charlie\"]\n",
        "for name in names:\n",
        "    print(\"Hello\", name)"
      ],
      "metadata": {
        "colab": {
          "base_uri": "https://localhost:8080/"
        },
        "id": "5xmXtpvAWNzT",
        "outputId": "d5becce4-ef84-474d-d168-6b1aaa7cb213"
      },
      "execution_count": null,
      "outputs": [
        {
          "output_type": "stream",
          "name": "stdout",
          "text": [
            "Hello Alice\n",
            "Hello Bob\n",
            "Hello Charlie\n"
          ]
        }
      ]
    },
    {
      "cell_type": "markdown",
      "source": [
        "p12"
      ],
      "metadata": {
        "id": "EG1CC9zim7CC"
      }
    },
    {
      "cell_type": "code",
      "source": [
        "iterations = 10\n",
        "for number in range(iterations):\n",
        "    print(number)"
      ],
      "metadata": {
        "colab": {
          "base_uri": "https://localhost:8080/"
        },
        "id": "7_sU8cRwoODX",
        "outputId": "78f2ffda-6844-4ffa-9c1c-79fdfc5f820d"
      },
      "execution_count": 1,
      "outputs": [
        {
          "output_type": "stream",
          "name": "stdout",
          "text": [
            "0\n",
            "1\n",
            "2\n",
            "3\n",
            "4\n",
            "5\n",
            "6\n",
            "7\n",
            "8\n",
            "9\n"
          ]
        }
      ]
    },
    {
      "cell_type": "markdown",
      "source": [
        "p12.2"
      ],
      "metadata": {
        "id": "ceb5JOeyowzN"
      }
    },
    {
      "cell_type": "code",
      "source": [
        "for number in range(9, 28, 3):\n",
        "    print(number)"
      ],
      "metadata": {
        "colab": {
          "base_uri": "https://localhost:8080/"
        },
        "id": "4dE-qAMBoxJS",
        "outputId": "60883c78-cdd1-4af3-c715-758a5a16e98f"
      },
      "execution_count": 2,
      "outputs": [
        {
          "output_type": "stream",
          "name": "stdout",
          "text": [
            "9\n",
            "12\n",
            "15\n",
            "18\n",
            "21\n",
            "24\n",
            "27\n"
          ]
        }
      ]
    },
    {
      "cell_type": "markdown",
      "source": [],
      "metadata": {
        "id": "vyzEJz-rrd9m"
      }
    },
    {
      "cell_type": "code",
      "source": [],
      "metadata": {
        "id": "ezM_xKoCredc"
      },
      "execution_count": null,
      "outputs": []
    }
  ]
}