{
  "nbformat": 4,
  "nbformat_minor": 0,
  "metadata": {
    "colab": {
      "provenance": [],
      "include_colab_link": true
    },
    "kernelspec": {
      "name": "python3",
      "display_name": "Python 3"
    },
    "language_info": {
      "name": "python"
    }
  },
  "cells": [
    {
      "cell_type": "markdown",
      "metadata": {
        "id": "view-in-github",
        "colab_type": "text"
      },
      "source": [
        "<a href=\"https://colab.research.google.com/github/mahesh722/beginning-bioinformatics1/blob/main/P6_1_.ipynb\" target=\"_parent\"><img src=\"https://colab.research.google.com/assets/colab-badge.svg\" alt=\"Open In Colab\"/></a>"
      ]
    },
    {
      "cell_type": "code",
      "execution_count": null,
      "metadata": {
        "colab": {
          "base_uri": "https://localhost:8080/"
        },
        "id": "qyWq9pTGKn9y",
        "outputId": "77c1c172-9f4c-44ae-be94-5f0c0630b152"
      },
      "outputs": [
        {
          "output_type": "stream",
          "name": "stdout",
          "text": [
            "Enter your name: Mahesh\n",
            "hello,  Mahesh\n"
          ]
        }
      ],
      "source": [
        "name = input(\"Enter your name: \")\n",
        "print(\"hello,  \" + name)"
      ]
    },
    {
      "cell_type": "markdown",
      "source": [
        "p6.2"
      ],
      "metadata": {
        "id": "UBvTfF8fMwOS"
      }
    },
    {
      "cell_type": "code",
      "source": [
        "a= float(input(\"Enter side a:  \"))\n",
        "b= float(input(\"Enter side b:  \"))\n",
        "c_sq = a**2 + b**2\n",
        "print(c_sq)"
      ],
      "metadata": {
        "id": "aegyhGMALS5w",
        "colab": {
          "base_uri": "https://localhost:8080/"
        },
        "outputId": "0bf223d4-c8c5-492f-dd2c-63dc65cd8c00"
      },
      "execution_count": null,
      "outputs": [
        {
          "output_type": "stream",
          "name": "stdout",
          "text": [
            "Enter side a:  6\n",
            "Enter side b:  8\n",
            "100.0\n"
          ]
        }
      ]
    },
    {
      "cell_type": "markdown",
      "source": [
        "p7.1"
      ],
      "metadata": {
        "id": "94XQ8wLsM55W"
      }
    },
    {
      "cell_type": "code",
      "source": [
        "my_list = [\"Hello\", \"World\", \"Charles Darwin\"]\n",
        "print(my_list[1])"
      ],
      "metadata": {
        "colab": {
          "base_uri": "https://localhost:8080/"
        },
        "id": "qnoKbGLbNAIr",
        "outputId": "60e88a12-35e6-499d-d1c4-5725c2ebe704"
      },
      "execution_count": null,
      "outputs": [
        {
          "output_type": "stream",
          "name": "stdout",
          "text": [
            "World\n"
          ]
        }
      ]
    },
    {
      "cell_type": "markdown",
      "source": [
        "p7.2\n"
      ],
      "metadata": {
        "id": "Cvr93FDuON_P"
      }
    },
    {
      "cell_type": "code",
      "source": [
        "my_list[2] = \"Alfred R. Wallace\"\n",
        "print(my_list)"
      ],
      "metadata": {
        "colab": {
          "base_uri": "https://localhost:8080/"
        },
        "id": "k1zgSMaxOQ9s",
        "outputId": "06ae5ff5-3b81-4ab3-8636-8edf89a1981e"
      },
      "execution_count": null,
      "outputs": [
        {
          "output_type": "stream",
          "name": "stdout",
          "text": [
            "['Hello', 'World', 'Alfred R. Wallace']\n"
          ]
        }
      ]
    },
    {
      "cell_type": "markdown",
      "source": [
        "p7.3"
      ],
      "metadata": {
        "id": "20Nd68O7O3FH"
      }
    },
    {
      "cell_type": "code",
      "source": [
        "my_list.append(\"Charles Darwin\")\n",
        "print(my_list)"
      ],
      "metadata": {
        "colab": {
          "base_uri": "https://localhost:8080/"
        },
        "id": "nJDxzGD8O5kq",
        "outputId": "d0266615-65f8-4b38-94b1-8e7f8b252f25"
      },
      "execution_count": null,
      "outputs": [
        {
          "output_type": "stream",
          "name": "stdout",
          "text": [
            "['Hello', 'World', 'Alfred R. Wallace', 'Charles Darwin']\n"
          ]
        }
      ]
    },
    {
      "cell_type": "markdown",
      "source": [
        "p7.4"
      ],
      "metadata": {
        "id": "ic8JkHZDPOc4"
      }
    },
    {
      "cell_type": "code",
      "source": [
        "my_list.insert(1, \"Inserted item\")\n",
        "print(my_list)"
      ],
      "metadata": {
        "colab": {
          "base_uri": "https://localhost:8080/"
        },
        "id": "85AAlFudPP4p",
        "outputId": "0a7c43f3-4da6-4650-bc5e-c55922aeb306"
      },
      "execution_count": null,
      "outputs": [
        {
          "output_type": "stream",
          "name": "stdout",
          "text": [
            "['Hello', 'Inserted item', 'World', 'Alfred R. Wallace', 'Charles Darwin']\n"
          ]
        }
      ]
    },
    {
      "cell_type": "markdown",
      "source": [
        "p8"
      ],
      "metadata": {
        "id": "EEuqou2hPh4o"
      }
    },
    {
      "cell_type": "code",
      "source": [
        "my_list = [\"Hello\",\"Inserted item\",\"World\",\"Alfred R. Wallace\",\"Charles Darwin\"]\n",
        "print(my_list[2:4])"
      ],
      "metadata": {
        "colab": {
          "base_uri": "https://localhost:8080/"
        },
        "id": "JVEVDyNHPiTR",
        "outputId": "b3b745ff-1926-436c-c8cf-dbedf725ce68"
      },
      "execution_count": null,
      "outputs": [
        {
          "output_type": "stream",
          "name": "stdout",
          "text": [
            "['World', 'Alfred R. Wallace']\n"
          ]
        }
      ]
    },
    {
      "cell_type": "markdown",
      "source": [
        "p8.1"
      ],
      "metadata": {
        "id": "ekEmmyYXPj38"
      }
    },
    {
      "cell_type": "code",
      "source": [
        "my_string = \"HelloWorldCharlesDarwinAlfred R. Wallace\"\n",
        "print(my_string[0:5])"
      ],
      "metadata": {
        "colab": {
          "base_uri": "https://localhost:8080/"
        },
        "id": "IQSQP30APkNQ",
        "outputId": "d9b62e6d-bd82-411e-8863-93c1c252f473"
      },
      "execution_count": null,
      "outputs": [
        {
          "output_type": "stream",
          "name": "stdout",
          "text": [
            "Hello\n"
          ]
        }
      ]
    },
    {
      "cell_type": "markdown",
      "source": [
        "p8.2"
      ],
      "metadata": {
        "id": "vakZGULoQtAD"
      }
    },
    {
      "cell_type": "code",
      "source": [
        "my_string = \"HelloWorldCharlesDarwinAlfred R. Wallace\"\n",
        "print (my_string[33:40] + \" \" + my_string[5:10])"
      ],
      "metadata": {
        "colab": {
          "base_uri": "https://localhost:8080/"
        },
        "id": "x66kdhkZQteD",
        "outputId": "dedd4c59-9c5e-42b3-bcdf-ed31bd6b92ac"
      },
      "execution_count": null,
      "outputs": [
        {
          "output_type": "stream",
          "name": "stdout",
          "text": [
            "Wallace World\n"
          ]
        }
      ]
    },
    {
      "cell_type": "markdown",
      "source": [
        "p9"
      ],
      "metadata": {
        "id": "9hyx5uGFVIHC"
      }
    },
    {
      "cell_type": "code",
      "source": [
        "a = float(input(\"a: \"))\n",
        "b = float(input(\"b: \"))\n",
        "if a != b:\n",
        "    print(a - b)\n",
        "else:\n",
        "    print(a + b)"
      ],
      "metadata": {
        "colab": {
          "base_uri": "https://localhost:8080/"
        },
        "id": "6JE5axypVI4k",
        "outputId": "978312db-d395-4ba0-ae68-f1d49d04d69c"
      },
      "execution_count": null,
      "outputs": [
        {
          "output_type": "stream",
          "name": "stdout",
          "text": [
            "a: 9\n",
            "b: 5\n",
            "4.0\n"
          ]
        }
      ]
    },
    {
      "cell_type": "markdown",
      "source": [
        "p10"
      ],
      "metadata": {
        "id": "koHU791bV2c1"
      }
    },
    {
      "cell_type": "code",
      "source": [
        "a = 1\n",
        "while a <= 3:\n",
        "    print(\"Counting!\")\n",
        "    a += 1"
      ],
      "metadata": {
        "colab": {
          "base_uri": "https://localhost:8080/"
        },
        "id": "86Vf6GFGV3Zg",
        "outputId": "b41ef0a3-9d04-4239-cf6c-feefaf9d20bd"
      },
      "execution_count": null,
      "outputs": [
        {
          "output_type": "stream",
          "name": "stdout",
          "text": [
            "Counting!\n",
            "Counting!\n",
            "Counting!\n"
          ]
        }
      ]
    },
    {
      "cell_type": "markdown",
      "source": [
        "p11"
      ],
      "metadata": {
        "id": "h3rER99QWNDu"
      }
    },
    {
      "cell_type": "code",
      "source": [
        "names = [\"Alice\", \"Bob\", \"Charlie\"]\n",
        "for name in names:\n",
        "    print(\"Hello\", name)"
      ],
      "metadata": {
        "colab": {
          "base_uri": "https://localhost:8080/"
        },
        "id": "5xmXtpvAWNzT",
        "outputId": "d5becce4-ef84-474d-d168-6b1aaa7cb213"
      },
      "execution_count": null,
      "outputs": [
        {
          "output_type": "stream",
          "name": "stdout",
          "text": [
            "Hello Alice\n",
            "Hello Bob\n",
            "Hello Charlie\n"
          ]
        }
      ]
    },
    {
      "cell_type": "markdown",
      "source": [
        "p12"
      ],
      "metadata": {
        "id": "EG1CC9zim7CC"
      }
    },
    {
      "cell_type": "code",
      "source": [
        "iterations = 10\n",
        "for number in range(iterations):\n",
        "    print(number)"
      ],
      "metadata": {
        "colab": {
          "base_uri": "https://localhost:8080/"
        },
        "id": "7_sU8cRwoODX",
        "outputId": "78f2ffda-6844-4ffa-9c1c-79fdfc5f820d"
      },
      "execution_count": null,
      "outputs": [
        {
          "output_type": "stream",
          "name": "stdout",
          "text": [
            "0\n",
            "1\n",
            "2\n",
            "3\n",
            "4\n",
            "5\n",
            "6\n",
            "7\n",
            "8\n",
            "9\n"
          ]
        }
      ]
    },
    {
      "cell_type": "markdown",
      "source": [
        "p12.2"
      ],
      "metadata": {
        "id": "ceb5JOeyowzN"
      }
    },
    {
      "cell_type": "code",
      "source": [
        "for number in range(9, 28, 3):\n",
        "    print(number)"
      ],
      "metadata": {
        "colab": {
          "base_uri": "https://localhost:8080/"
        },
        "id": "4dE-qAMBoxJS",
        "outputId": "02d437b3-88d4-4510-bfb1-5c8b855d2ff4"
      },
      "execution_count": null,
      "outputs": [
        {
          "output_type": "stream",
          "name": "stdout",
          "text": [
            "9\n",
            "12\n",
            "15\n",
            "18\n",
            "21\n",
            "24\n",
            "27\n"
          ]
        }
      ]
    },
    {
      "cell_type": "markdown",
      "source": [
        "p13.1\n",
        "\n"
      ],
      "metadata": {
        "id": "YpRDkzgPU5KQ"
      }
    },
    {
      "cell_type": "code",
      "source": [
        "with open('/content/practice.txt', 'r') as data:\n",
        "    print(data.read())\n"
      ],
      "metadata": {
        "colab": {
          "base_uri": "https://localhost:8080/"
        },
        "id": "y9BrkRsQUwbr",
        "outputId": "ac2bc967-00b2-4e3f-a7af-a28694fb07e2"
      },
      "execution_count": null,
      "outputs": [
        {
          "output_type": "stream",
          "name": "stdout",
          "text": [
            "Bravely bold Sir Robin\n"
          ]
        }
      ]
    },
    {
      "cell_type": "markdown",
      "source": [
        "p13.2"
      ],
      "metadata": {
        "id": "QjSdXkHrVEgY"
      }
    },
    {
      "cell_type": "code",
      "source": [
        "with open('/content/practice.txt', 'r') as data:\n",
        "    content = data.read()\n",
        "    print(\"read():\\n\", content)\n",
        "\n",
        "with open('/content/practice.txt', 'r') as data:\n",
        "    first_line = data.readline()\n",
        "    print(\"readline():\", first_line)\n",
        "\n",
        "with open('/content/practice.txt', 'r') as data:\n",
        "    lines = data.readlines()\n",
        "    print(\"readlines():\", lines)\n"
      ],
      "metadata": {
        "colab": {
          "base_uri": "https://localhost:8080/"
        },
        "id": "Tl8NhkRzU10K",
        "outputId": "c0fc6ded-e41f-4998-d935-34c3cbf08b48"
      },
      "execution_count": null,
      "outputs": [
        {
          "output_type": "stream",
          "name": "stdout",
          "text": [
            "read():\n",
            " Bravely bold Sir Robin\n",
            "readline(): Bravely bold Sir Robin\n",
            "readlines(): ['Bravely bold Sir Robin']\n"
          ]
        }
      ]
    },
    {
      "cell_type": "markdown",
      "source": [
        "p14.1"
      ],
      "metadata": {
        "id": "loso-zQgWWRz"
      }
    },
    {
      "cell_type": "code",
      "source": [],
      "metadata": {
        "id": "edEFHwQ1Z4-a"
      },
      "execution_count": null,
      "outputs": []
    },
    {
      "cell_type": "code",
      "source": [
        "with open('/content/practice.txt', 'r') as f:\n",
        "    list_of_lines = f.readlines()\n",
        "\n",
        "print(\"\".join(list_of_lines))\n"
      ],
      "metadata": {
        "colab": {
          "base_uri": "https://localhost:8080/"
        },
        "id": "sELMmQnWWRhr",
        "outputId": "13fdd1db-0a94-4e63-b525-a8350aab257c"
      },
      "execution_count": null,
      "outputs": [
        {
          "output_type": "stream",
          "name": "stdout",
          "text": [
            "Bravely bold Sir Robin\n"
          ]
        }
      ]
    },
    {
      "cell_type": "code",
      "source": [
        "with open('/content/practice.txt', 'r') as data:\n",
        "    for line in data:\n",
        "        print(line.rstrip())\n"
      ],
      "metadata": {
        "colab": {
          "base_uri": "https://localhost:8080/"
        },
        "id": "AEFnPn-VWc_k",
        "outputId": "19f7ec98-bcaf-453a-c8ec-a8e3b8958ed3"
      },
      "execution_count": null,
      "outputs": [
        {
          "output_type": "stream",
          "name": "stdout",
          "text": [
            "Bravely bold Sir Robin\n"
          ]
        }
      ]
    },
    {
      "cell_type": "markdown",
      "source": [],
      "metadata": {
        "id": "OGLezT-8YpGS"
      }
    },
    {
      "cell_type": "code",
      "source": [
        "with open('/content/practice.txt', 'r') as data:\n",
        "    for line in data:\n",
        "        print(line.rstrip())"
      ],
      "metadata": {
        "colab": {
          "base_uri": "https://localhost:8080/"
        },
        "id": "ZQx1Np9DYpeP",
        "outputId": "577ee284-fe2d-4d47-e805-3ac1eaea29a4"
      },
      "execution_count": null,
      "outputs": [
        {
          "output_type": "stream",
          "name": "stdout",
          "text": [
            "Bravely bold Sir Robin\n"
          ]
        }
      ]
    },
    {
      "cell_type": "code",
      "source": [
        "count = 1\n",
        "with open('/content/sampledata_P16.txt', 'r') as data:\n",
        "    for line in data:\n",
        "        if count % 2 == 0:   # check if line number is even\n",
        "            print(line.strip())\n",
        "        count += 1"
      ],
      "metadata": {
        "id": "_ZK1UeTAZ6SP"
      },
      "execution_count": null,
      "outputs": []
    },
    {
      "cell_type": "code",
      "source": [
        "with open('/content/practice_5.txt', 'r') as f:\n",
        "    for line in f:\n",
        "        for word in line.split():   # default split on whitespace\n",
        "            print(word)\n"
      ],
      "metadata": {
        "colab": {
          "base_uri": "https://localhost:8080/"
        },
        "id": "G66jub8JcbPX",
        "outputId": "b602f3e4-a728-4988-bcc0-1ee6e5db7140"
      },
      "execution_count": null,
      "outputs": [
        {
          "output_type": "stream",
          "name": "stdout",
          "text": [
            "{\"nbformat\":4,\"nbformat_minor\":0,\"metadata\":{\"colab\":{\"provenance\":[],\"authorship_tag\":\"ABX9TyMdb8feNvJqD8klTQOipnnk\"},\"kernelspec\":{\"name\":\"python3\",\"display_name\":\"Python\n",
            "3\"},\"language_info\":{\"name\":\"python\"}},\"cells\":[{\"cell_type\":\"code\",\"execution_count\":null,\"metadata\":{\"id\":\"KTVu4cz_f9yw\",\"executionInfo\":{\"status\":\"ok\",\"timestamp\":1757388431779,\"user_tz\":300,\"elapsed\":10,\"user\":{\"displayName\":\"Swetha\n",
            "Koniki\",\"userId\":\"03610709927525719922\"}}},\"outputs\":[],\"source\":[]},{\"cell_type\":\"markdown\",\"source\":[\"jai\n",
            "balayya\\n\",\"prabhas\n",
            "raju\\n\",\"virat\n",
            "kohli\n",
            "rohith\n",
            "sharma\n",
            "ms\n",
            "dhoni\\n\",\"bioinformation\n",
            "subject\n",
            "assignment\\n\"],\"metadata\":{\"id\":\"VLKTREaxgTBj\"}}]}\n"
          ]
        }
      ]
    },
    {
      "cell_type": "code",
      "source": [
        "sequences = {\n",
        "    \"H\": \"Hello\",\n",
        "    \"W\": \"World\",\n",
        "    \"ARC\": \"Alfred R. Wallace\",\n",
        "    \"CD\": \"Charles Darwin\"\n",
        "}\n",
        "print(sequences[\"CD\"])   # -> Charles Darwin\n"
      ],
      "metadata": {
        "colab": {
          "base_uri": "https://localhost:8080/"
        },
        "id": "iaC1uQpZiFYN",
        "outputId": "2896c26c-95a4-45dd-d1c1-010d2fc5728e"
      },
      "execution_count": null,
      "outputs": [
        {
          "output_type": "stream",
          "name": "stdout",
          "text": [
            "Charles Darwin\n"
          ]
        }
      ]
    },
    {
      "cell_type": "markdown",
      "source": [],
      "metadata": {
        "id": "cCKcji36T8UM"
      }
    },
    {
      "cell_type": "code",
      "source": [
        "sequences[\"NewID\"] = \"ATGCGT...\"\n",
        "sequences.update({\"AnotherID\": \"TTACG...\"})\n"
      ],
      "metadata": {
        "id": "WQuQ6RQUiKXH"
      },
      "execution_count": null,
      "outputs": []
    },
    {
      "cell_type": "code",
      "source": [
        "for key, val in sequences.items():\n",
        "    print(key, val)\n"
      ],
      "metadata": {
        "colab": {
          "base_uri": "https://localhost:8080/"
        },
        "id": "ITzmNr1fiK9t",
        "outputId": "b846ed6b-e516-443d-b381-d16c4f788e19"
      },
      "execution_count": null,
      "outputs": [
        {
          "output_type": "stream",
          "name": "stdout",
          "text": [
            "H Hello\n",
            "W World\n",
            "ARC Alfred R. Wallace\n",
            "CD Charles Darwin\n",
            "NewID ATGCGT...\n",
            "AnotherID TTACG...\n"
          ]
        }
      ]
    },
    {
      "cell_type": "code",
      "source": [],
      "metadata": {
        "id": "dk5TNPxAlNEX"
      },
      "execution_count": null,
      "outputs": []
    },
    {
      "cell_type": "code",
      "source": [],
      "metadata": {
        "id": "OTyCd3rDiX6-"
      },
      "execution_count": null,
      "outputs": []
    },
    {
      "cell_type": "code",
      "source": [
        "with open('/content/hominids.fasta', 'w') as out:\n",
        "    for id_, seq in sequences.items():\n",
        "        out.write(f\">{id_}\\n{seq}\\n\")\n"
      ],
      "metadata": {
        "id": "hIJOkgaViYzf"
      },
      "execution_count": null,
      "outputs": []
    },
    {
      "cell_type": "code",
      "source": [
        "# Create a practice input file\n",
        "with open('/content/rosalind_input.txt', 'w') as f:\n",
        "    f.write(\"this is a test this is only a test\")\n"
      ],
      "metadata": {
        "id": "VN6yQ0utibjx"
      },
      "execution_count": null,
      "outputs": []
    },
    {
      "cell_type": "code",
      "source": [
        "from collections import defaultdict\n",
        "\n",
        "counts = defaultdict(int)\n",
        "with open('/content/rosalind_input.txt') as f:\n",
        "    for word in f.read().split():\n",
        "        counts[word] += 1\n",
        "\n",
        "for word, count in counts.items():\n",
        "    print(word, count)\n"
      ],
      "metadata": {
        "colab": {
          "base_uri": "https://localhost:8080/"
        },
        "id": "JZDqbQCRipcp",
        "outputId": "56695cde-3460-4a20-f637-d83400c4f3fe"
      },
      "execution_count": null,
      "outputs": [
        {
          "output_type": "stream",
          "name": "stdout",
          "text": [
            "this 2\n",
            "is 2\n",
            "a 2\n",
            "test 2\n",
            "only 1\n"
          ]
        }
      ]
    },
    {
      "cell_type": "code",
      "source": [
        "# Write a sample sequence into practice_6.txt\n",
        "with open('/content/practice_6.txt', 'w') as f:\n",
        "    f.write(\"AGCTATAG\")\n",
        "\n",
        "# Now reopen and count nucleotides\n",
        "with open('/content/practice_6.txt') as f:\n",
        "    seq = f.read().strip()\n",
        "print(seq.count('A'), seq.count('C'), seq.count('G'), seq.count('T'))\n"
      ],
      "metadata": {
        "colab": {
          "base_uri": "https://localhost:8080/"
        },
        "id": "eVUwvEBClOZZ",
        "outputId": "45dbb7d7-1d3f-477d-8e89-22a3eef8510a"
      },
      "execution_count": 38,
      "outputs": [
        {
          "output_type": "stream",
          "name": "stdout",
          "text": [
            "3 1 2 2\n"
          ]
        }
      ]
    },
    {
      "cell_type": "code",
      "source": [
        "with open('/content/practice_6.txt') as f:\n",
        "    seq = f.read().strip()\n",
        "print(seq.count('A'), seq.count('C'), seq.count('G'), seq.count('T'))\n"
      ],
      "metadata": {
        "id": "AHabZE5DjhZ4",
        "colab": {
          "base_uri": "https://localhost:8080/"
        },
        "outputId": "7f30ba09-d147-41e1-8349-4f64af238504"
      },
      "execution_count": 39,
      "outputs": [
        {
          "output_type": "stream",
          "name": "stdout",
          "text": [
            "3 1 2 2\n"
          ]
        }
      ]
    },
    {
      "cell_type": "code",
      "source": [
        "with open('/content/some_file.txt', 'w') as f:\n",
        "    f.write(\"apple banana apple orange\")\n"
      ],
      "metadata": {
        "id": "EsqRylJZmN_z"
      },
      "execution_count": 45,
      "outputs": []
    },
    {
      "cell_type": "code",
      "source": [
        "text = open('/content/some_file.txt').read()\n",
        "counts = {}\n",
        "for w in text.split():\n",
        "    if w not in counts:\n",
        "        counts[w] = text.count(w)\n",
        "print(counts)\n"
      ],
      "metadata": {
        "colab": {
          "base_uri": "https://localhost:8080/"
        },
        "id": "QswDC_pioVdE",
        "outputId": "600bffa3-ff27-4f05-8b4e-cd96779e7dd2"
      },
      "execution_count": 46,
      "outputs": [
        {
          "output_type": "stream",
          "name": "stdout",
          "text": [
            "{'apple': 2, 'banana': 1, 'orange': 1}\n"
          ]
        }
      ]
    },
    {
      "cell_type": "code",
      "source": [],
      "metadata": {
        "id": "eFETAGx-orG4"
      },
      "execution_count": null,
      "outputs": []
    }
  ]
}