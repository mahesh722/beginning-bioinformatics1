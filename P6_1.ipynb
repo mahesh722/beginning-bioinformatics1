{
  "nbformat": 4,
  "nbformat_minor": 0,
  "metadata": {
    "colab": {
      "provenance": [],
      "authorship_tag": "ABX9TyNFCsFnri21hOQaYeGTz93o",
      "include_colab_link": true
    },
    "kernelspec": {
      "name": "python3",
      "display_name": "Python 3"
    },
    "language_info": {
      "name": "python"
    }
  },
  "cells": [
    {
      "cell_type": "markdown",
      "metadata": {
        "id": "view-in-github",
        "colab_type": "text"
      },
      "source": [
        "<a href=\"https://colab.research.google.com/github/mahesh722/beginning-bioinformatics1/blob/main/P6_1.ipynb\" target=\"_parent\"><img src=\"https://colab.research.google.com/assets/colab-badge.svg\" alt=\"Open In Colab\"/></a>"
      ]
    },
    {
      "cell_type": "code",
      "execution_count": 4,
      "metadata": {
        "colab": {
          "base_uri": "https://localhost:8080/"
        },
        "id": "qyWq9pTGKn9y",
        "outputId": "77c1c172-9f4c-44ae-be94-5f0c0630b152"
      },
      "outputs": [
        {
          "output_type": "stream",
          "name": "stdout",
          "text": [
            "Enter your name: Mahesh\n",
            "hello,  Mahesh\n"
          ]
        }
      ],
      "source": [
        "name = input(\"Enter your name: \")\n",
        "print(\"hello,  \" + name)"
      ]
    },
    {
      "cell_type": "markdown",
      "source": [
        "p6.2"
      ],
      "metadata": {
        "id": "UBvTfF8fMwOS"
      }
    },
    {
      "cell_type": "code",
      "source": [
        "a= float(input(\"Enter side a:  \"))\n",
        "b= float(input(\"Enter side b:  \"))\n",
        "c_sq = a**2 + b**2\n",
        "print(c_sq)"
      ],
      "metadata": {
        "id": "aegyhGMALS5w",
        "colab": {
          "base_uri": "https://localhost:8080/"
        },
        "outputId": "0bf223d4-c8c5-492f-dd2c-63dc65cd8c00"
      },
      "execution_count": 5,
      "outputs": [
        {
          "output_type": "stream",
          "name": "stdout",
          "text": [
            "Enter side a:  6\n",
            "Enter side b:  8\n",
            "100.0\n"
          ]
        }
      ]
    },
    {
      "cell_type": "markdown",
      "source": [
        "p7.1"
      ],
      "metadata": {
        "id": "94XQ8wLsM55W"
      }
    },
    {
      "cell_type": "code",
      "source": [
        "my_list = [\"Hello\", \"World\", \"Charles Darwin\"]\n",
        "print(my_list[1])"
      ],
      "metadata": {
        "colab": {
          "base_uri": "https://localhost:8080/"
        },
        "id": "qnoKbGLbNAIr",
        "outputId": "60e88a12-35e6-499d-d1c4-5725c2ebe704"
      },
      "execution_count": 11,
      "outputs": [
        {
          "output_type": "stream",
          "name": "stdout",
          "text": [
            "World\n"
          ]
        }
      ]
    },
    {
      "cell_type": "markdown",
      "source": [
        "p7.2\n"
      ],
      "metadata": {
        "id": "Cvr93FDuON_P"
      }
    },
    {
      "cell_type": "code",
      "source": [
        "my_list[2] = \"Alfred R. Wallace\"\n",
        "print(my_list)"
      ],
      "metadata": {
        "colab": {
          "base_uri": "https://localhost:8080/"
        },
        "id": "k1zgSMaxOQ9s",
        "outputId": "06ae5ff5-3b81-4ab3-8636-8edf89a1981e"
      },
      "execution_count": 12,
      "outputs": [
        {
          "output_type": "stream",
          "name": "stdout",
          "text": [
            "['Hello', 'World', 'Alfred R. Wallace']\n"
          ]
        }
      ]
    },
    {
      "cell_type": "markdown",
      "source": [
        "p7.3"
      ],
      "metadata": {
        "id": "20Nd68O7O3FH"
      }
    },
    {
      "cell_type": "code",
      "source": [
        "my_list.append(\"Charles Darwin\")\n",
        "print(my_list)"
      ],
      "metadata": {
        "colab": {
          "base_uri": "https://localhost:8080/"
        },
        "id": "nJDxzGD8O5kq",
        "outputId": "d0266615-65f8-4b38-94b1-8e7f8b252f25"
      },
      "execution_count": 13,
      "outputs": [
        {
          "output_type": "stream",
          "name": "stdout",
          "text": [
            "['Hello', 'World', 'Alfred R. Wallace', 'Charles Darwin']\n"
          ]
        }
      ]
    },
    {
      "cell_type": "markdown",
      "source": [
        "p7.4"
      ],
      "metadata": {
        "id": "ic8JkHZDPOc4"
      }
    },
    {
      "cell_type": "code",
      "source": [
        "my_list.insert(1, \"Inserted item\")\n",
        "print(my_list)"
      ],
      "metadata": {
        "colab": {
          "base_uri": "https://localhost:8080/"
        },
        "id": "85AAlFudPP4p",
        "outputId": "0a7c43f3-4da6-4650-bc5e-c55922aeb306"
      },
      "execution_count": 14,
      "outputs": [
        {
          "output_type": "stream",
          "name": "stdout",
          "text": [
            "['Hello', 'Inserted item', 'World', 'Alfred R. Wallace', 'Charles Darwin']\n"
          ]
        }
      ]
    },
    {
      "cell_type": "markdown",
      "source": [
        "p8"
      ],
      "metadata": {
        "id": "EEuqou2hPh4o"
      }
    },
    {
      "cell_type": "code",
      "source": [
        "my_list = [\"Hello\",\"Inserted item\",\"World\",\"Alfred R. Wallace\",\"Charles Darwin\"]\n",
        "print(my_list[2:4])"
      ],
      "metadata": {
        "colab": {
          "base_uri": "https://localhost:8080/"
        },
        "id": "JVEVDyNHPiTR",
        "outputId": "b3b745ff-1926-436c-c8cf-dbedf725ce68"
      },
      "execution_count": 15,
      "outputs": [
        {
          "output_type": "stream",
          "name": "stdout",
          "text": [
            "['World', 'Alfred R. Wallace']\n"
          ]
        }
      ]
    },
    {
      "cell_type": "markdown",
      "source": [
        "p8.1"
      ],
      "metadata": {
        "id": "ekEmmyYXPj38"
      }
    },
    {
      "cell_type": "code",
      "source": [
        "my_string = \"HelloWorldCharlesDarwinAlfred R. Wallace\"\n",
        "print(my_string[0:5])"
      ],
      "metadata": {
        "colab": {
          "base_uri": "https://localhost:8080/"
        },
        "id": "IQSQP30APkNQ",
        "outputId": "d9b62e6d-bd82-411e-8863-93c1c252f473"
      },
      "execution_count": 16,
      "outputs": [
        {
          "output_type": "stream",
          "name": "stdout",
          "text": [
            "Hello\n"
          ]
        }
      ]
    },
    {
      "cell_type": "markdown",
      "source": [
        "p8.2"
      ],
      "metadata": {
        "id": "vakZGULoQtAD"
      }
    },
    {
      "cell_type": "code",
      "source": [
        "my_string = \"HelloWorldCharlesDarwinAlfred R. Wallace\"\n",
        "print (my_string[33:40] + \" \" + my_string[5:10])"
      ],
      "metadata": {
        "colab": {
          "base_uri": "https://localhost:8080/"
        },
        "id": "x66kdhkZQteD",
        "outputId": "dedd4c59-9c5e-42b3-bcdf-ed31bd6b92ac"
      },
      "execution_count": 19,
      "outputs": [
        {
          "output_type": "stream",
          "name": "stdout",
          "text": [
            "Wallace World\n"
          ]
        }
      ]
    }
  ]
}